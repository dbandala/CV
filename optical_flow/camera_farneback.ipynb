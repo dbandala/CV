{
 "cells": [
  {
   "cell_type": "code",
   "execution_count": 1,
   "id": "aa5b3209-fd4e-4f37-a47e-e933d6619986",
   "metadata": {},
   "outputs": [],
   "source": [
    "# Daniel Bandala @ sep 2022\n",
    "import cv2 as cv\n",
    "import numpy as np"
   ]
  },
  {
   "cell_type": "markdown",
   "id": "a6c39559-6829-4406-840b-2cd6b51bb08c",
   "metadata": {},
   "source": [
    "# Optical flow - Farneback algorithm (Opencv)\n",
    "Optical flow or optic flow is the pattern of apparent motion of objects, surfaces, and edges in a visual scene caused by the relative motion between an observer and a scene. Optical flow can also be defined as the distribution of apparent velocities of movement of brightness pattern in an image. It is known as the pattern of apparent motion of objects, i.e, it is the motion of objects between every two consecutive frames of the sequence, which is caused by the movement of the object being captured or the camera capturing it. Consider an object with intensity $I (x, y, t)$, after time dt, it moves to by dx and dy, now, the new intensity would be, $I (x+dx, y+dy, t+dt)$.\n",
    "\n",
    "In dense optical flow, we look at all of the points (unlike Lucas Kanade which works only on corner points detected by Shi-Tomasi Algorithm) and detect the pixel intensity changes between the two frames, resulting in an image with highlighted pixels, after converting to hsv format for clear visibility. It computes the magnitude and direction of optical flow from an array of the flow vectors, i.e., $(dx/dt, dy/dt)$. Later it visualizes the angle or direction of flow by hue and the distance or magnitude of flow by value of HSV color representation. For visibility to be optimal, strength of HSV is set to 255. OpenCV provides a function cv2.calcOpticalFlowFarneback to look into dense optical flow.\n"
   ]
  },
  {
   "cell_type": "code",
   "execution_count": 2,
   "id": "03f927ca-0d2f-4ca0-9721-dd11f133ce39",
   "metadata": {},
   "outputs": [],
   "source": [
    "def calc_farneback(frames):\n",
    "    try:\n",
    "        return cv.calcOpticalFlowFarneback(\n",
    "            frames[0], frames[1],\n",
    "            # options, defaults\n",
    "            None,  # output\n",
    "            0.5,  # pyr_scale, 0.5\n",
    "            10,  # levels, 3\n",
    "            min(frames[0].shape[:2]) // 5,  # winsize, 15\n",
    "            10,  # iterations, 3\n",
    "            7,  # poly_n, 5\n",
    "            1.5,  # poly_sigma, 1.2\n",
    "            cv.OPTFLOW_FARNEBACK_GAUSSIAN,  # flags, 0\n",
    "        )\n",
    "    except cv2.error:\n",
    "        return None "
   ]
  },
  {
   "cell_type": "code",
   "execution_count": 3,
   "id": "798ddf77-e061-4c30-97db-cc29f1da48db",
   "metadata": {},
   "outputs": [
    {
     "name": "stderr",
     "output_type": "stream",
     "text": [
      "[ WARN:0@1.768] global /home/bandala/opencv/modules/videoio/src/cap_gstreamer.cpp (1412) open OpenCV | GStreamer warning: Cannot query video position: status=0, value=-1, duration=-1\n"
     ]
    }
   ],
   "source": [
    "cap = cv.VideoCapture(1)\n",
    "ret, frame1 = cap.read()"
   ]
  },
  {
   "cell_type": "code",
   "execution_count": 4,
   "id": "0bc6c5a3-133b-4be9-99c7-63b4ffad2144",
   "metadata": {},
   "outputs": [],
   "source": [
    "prvs = cv.cvtColor(frame1,cv.COLOR_BGR2GRAY)\n",
    "hsv = np.zeros_like(frame1)\n",
    "hsv[...,1] = 255"
   ]
  },
  {
   "cell_type": "code",
   "execution_count": 5,
   "id": "8aa7d939-414f-4fe0-a1ae-d555c3ae98d3",
   "metadata": {},
   "outputs": [],
   "source": [
    "while(1):\n",
    "    ret, frame2 = cap.read()    \n",
    "    # Our operations on the frame come here\n",
    "    next_f = cv.cvtColor(frame2,cv.COLOR_BGR2GRAY)\n",
    "    flow = calc_farneback([prvs,next_f])\n",
    "    mag, ang = cv.cartToPolar(flow[...,0], flow[...,1])\n",
    "    hsv[...,0] = ang*180/np.pi/2\n",
    "    hsv[...,2] = cv.normalize(mag,None,0,255,cv.NORM_MINMAX)\n",
    "    bgr = cv.cvtColor(hsv,cv.COLOR_HSV2BGR)\n",
    "    prvs = next_f\n",
    "    # Display the resulting frame\n",
    "    cv.imshow('Optical Flow Aura',bgr)\n",
    "    if cv.waitKey(2) & 0xFF == ord('q'):  # press q to quit\n",
    "        break\n",
    "# When everything done, release the capture\n",
    "cap.release()\n",
    "cv.destroyAllWindows()"
   ]
  },
  {
   "cell_type": "code",
   "execution_count": null,
   "id": "ef876e08-4401-4e8e-8db9-86056f85acaa",
   "metadata": {},
   "outputs": [],
   "source": []
  }
 ],
 "metadata": {
  "kernelspec": {
   "display_name": "Python 3 (ipykernel)",
   "language": "python",
   "name": "python3"
  },
  "language_info": {
   "codemirror_mode": {
    "name": "ipython",
    "version": 3
   },
   "file_extension": ".py",
   "mimetype": "text/x-python",
   "name": "python",
   "nbconvert_exporter": "python",
   "pygments_lexer": "ipython3",
   "version": "3.8.10"
  }
 },
 "nbformat": 4,
 "nbformat_minor": 5
}
