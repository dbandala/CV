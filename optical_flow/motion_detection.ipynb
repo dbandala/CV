{
 "cells": [
  {
   "cell_type": "code",
   "execution_count": 1,
   "id": "867840d7-eaf6-4454-80c0-72d0209f9f56",
   "metadata": {},
   "outputs": [],
   "source": [
    "# Daniel Bandala @ sep 2022\n",
    "import time \n",
    "import cv2 as cv\n",
    "import numpy as np"
   ]
  },
  {
   "cell_type": "code",
   "execution_count": 2,
   "id": "921f6925-4a3d-4629-aa8a-adc992ff1a3b",
   "metadata": {},
   "outputs": [],
   "source": [
    "color=(255,0,0)\n",
    "thickness=2"
   ]
  },
  {
   "cell_type": "code",
   "execution_count": 3,
   "id": "3879ebd6-6be1-467a-8145-b84c6e9c2b83",
   "metadata": {},
   "outputs": [
    {
     "name": "stderr",
     "output_type": "stream",
     "text": [
      "[ WARN:0@1.312] global /home/bandala/opencv/modules/videoio/src/cap_gstreamer.cpp (1412) open OpenCV | GStreamer warning: Cannot query video position: status=0, value=-1, duration=-1\n"
     ]
    }
   ],
   "source": [
    "cap = cv.VideoCapture(0)\n",
    "while(True):\n",
    "    # Capture two frames\n",
    "    ret, frame1 = cap.read()  # first image\n",
    "    time.sleep(1/25)          # slight delay\n",
    "    ret, frame2 = cap.read()  # second image \n",
    "    img1 = cv.absdiff(frame1,frame2)  # image difference\n",
    "    \n",
    "    # get theshold image\n",
    "    gray = cv.cvtColor(img1,cv.COLOR_BGR2GRAY)\n",
    "    blur = cv.GaussianBlur(gray,(21,21),0)\n",
    "    ret,thresh = cv.threshold(blur,100,255,cv.THRESH_OTSU)\n",
    "    \n",
    "    # combine frame and the image difference\n",
    "    img2 = cv.addWeighted(frame1,0.9,img1,0.1,0)\n",
    "    \n",
    "    # get contours and set bounding box from contours\n",
    "    #img3, contours = cv.findContours(thresh,cv.RETR_TREE,cv.CHAIN_APPROX_NONE) # deprecated\n",
    "    contours,hierarchy = cv.findContours(thresh,cv.RETR_TREE,cv.CHAIN_APPROX_NONE) # version 4.6.0   \n",
    "    if len(contours) != 0:\n",
    "        for c in contours:                        \n",
    "            rect = cv.boundingRect(c)\n",
    "            height, width = img2.shape[:2]            \n",
    "            if rect[2] > 0.2*height and rect[2] < 0.7*height and rect[3] > 0.2*width and rect[3] < 0.7*width: \n",
    "                x,y,w,h = cv.boundingRect(c)            # get bounding box of largest contour\n",
    "                img4=cv.drawContours(img2, c, -1, color, thickness)\n",
    "                img5 = cv.rectangle(img2,(x,y),(x+w,y+h),(0,0,255),2)  # draw red bounding box in img\n",
    "            else:\n",
    "                img5=img2\n",
    "    else:\n",
    "        img5=img2\n",
    "        \n",
    "    # Display the resulting image\n",
    "    cv.imshow('Motion Detection by Image Difference',img2)\n",
    "    if cv.waitKey(1) & 0xFF == ord('q'):  # press q to quit\n",
    "        break\n",
    "        \n",
    "# When everything done, release the capture\n",
    "cap.release()\n",
    "cv.destroyAllWindows()"
   ]
  },
  {
   "cell_type": "code",
   "execution_count": null,
   "id": "f0ebb367-602b-4192-9d16-f8182453f22d",
   "metadata": {},
   "outputs": [],
   "source": []
  }
 ],
 "metadata": {
  "kernelspec": {
   "display_name": "Python 3 (ipykernel)",
   "language": "python",
   "name": "python3"
  },
  "language_info": {
   "codemirror_mode": {
    "name": "ipython",
    "version": 3
   },
   "file_extension": ".py",
   "mimetype": "text/x-python",
   "name": "python",
   "nbconvert_exporter": "python",
   "pygments_lexer": "ipython3",
   "version": "3.8.10"
  }
 },
 "nbformat": 4,
 "nbformat_minor": 5
}
