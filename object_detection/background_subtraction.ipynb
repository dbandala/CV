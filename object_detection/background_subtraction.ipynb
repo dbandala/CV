{
 "cells": [
  {
   "cell_type": "code",
   "execution_count": 1,
   "metadata": {},
   "outputs": [],
   "source": [
    "# Daniel Bandala @ oct 2022\n",
    "import numpy as np\n",
    "import cv2 as cv"
   ]
  },
  {
   "cell_type": "code",
   "execution_count": 2,
   "metadata": {},
   "outputs": [],
   "source": [
    "alpha=0.999"
   ]
  },
  {
   "cell_type": "code",
   "execution_count": 5,
   "metadata": {},
   "outputs": [],
   "source": [
    "isFirstTime=True\n",
    "cap = cv.VideoCapture(0)\n",
    "while(True):\n",
    "    # Capture frame-by-frame\n",
    "    ret, frame = cap.read()  # ret = 1 if the video is captured; frame is the image\n",
    "    frame=cv.resize(frame,None,fx=0.5,fy=0.5,interpolation=cv.INTER_AREA)\n",
    "    \n",
    "    # create background    \n",
    "    if isFirstTime==True:\n",
    "       bg_img=frame\n",
    "       isFirstTime=False\n",
    "    else:\n",
    "       bg_img = dst = cv.addWeighted(frame,(1-alpha),bg_img,alpha,0)\n",
    "\n",
    "    #fgmask = bg_img. .apply(frame)\n",
    "    \n",
    "    # create foreground\n",
    "    #fg_img=cv.subtract(frame,bg_img)\n",
    "    fg_img = cv.absdiff(frame,bg_img)  \n",
    "    \n",
    "    # Display the resulting image\n",
    "    cv.imshow('Video Capture',frame)\n",
    "    cv.imshow('Background',bg_img)\n",
    "    cv.imshow('Foreground',fg_img)\n",
    "    if cv.waitKey(1) & 0xFF == ord('q'):  # press q to quit\n",
    "        break\n",
    "        \n",
    "# When everything done, release the capture\n",
    "cap.release()\n",
    "cv.destroyAllWindows()"
   ]
  },
  {
   "cell_type": "code",
   "execution_count": null,
   "metadata": {},
   "outputs": [],
   "source": []
  },
  {
   "cell_type": "code",
   "execution_count": null,
   "metadata": {},
   "outputs": [],
   "source": []
  },
  {
   "cell_type": "code",
   "execution_count": null,
   "metadata": {},
   "outputs": [],
   "source": []
  }
 ],
 "metadata": {
  "kernelspec": {
   "display_name": "Python 3.10.5 64-bit",
   "language": "python",
   "name": "python3"
  },
  "language_info": {
   "codemirror_mode": {
    "name": "ipython",
    "version": 3
   },
   "file_extension": ".py",
   "mimetype": "text/x-python",
   "name": "python",
   "nbconvert_exporter": "python",
   "pygments_lexer": "ipython3",
   "version": "3.10.5"
  },
  "orig_nbformat": 4,
  "vscode": {
   "interpreter": {
    "hash": "9ffaa23e4c1a606a79935d30be75e6adcafdea2dea43863fb1ebfe4493c5c699"
   }
  }
 },
 "nbformat": 4,
 "nbformat_minor": 2
}
