{
  "cells": [
    {
      "cell_type": "code",
      "execution_count": 1,
      "metadata": {
        "id": "BGwDsVlSRsFl"
      },
      "outputs": [],
      "source": [
        "# Daniel Bandala @ sep 2022\n",
        "import cv2 as cv\n",
        "import numpy as np"
      ]
    },
    {
      "cell_type": "code",
      "execution_count": 2,
      "metadata": {
        "id": "IljQokemSsaX"
      },
      "outputs": [],
      "source": [
        "kernelSize=21   # Kernel Bluring size "
      ]
    },
    {
      "cell_type": "code",
      "execution_count": 3,
      "metadata": {
        "id": "tELUzm2hStMi"
      },
      "outputs": [],
      "source": [
        "# Edge Detection Parameter\n",
        "parameter1=20\n",
        "parameter2=60\n",
        "intApertureSize=1"
      ]
    },
    {
      "cell_type": "code",
      "execution_count": 4,
      "metadata": {
        "colab": {
          "base_uri": "https://localhost:8080/"
        },
        "id": "9w9awnIuStOu",
        "outputId": "2cb7a21b-dd89-4e3c-fa40-92cdd8388b6c"
      },
      "outputs": [],
      "source": [
        "cap = cv.VideoCapture(0)\n",
        "while(True):\n",
        "    # Capture frame-by-frame\n",
        "    ret, frame = cap.read()    \n",
        "    # validate video capture\n",
        "    if not ret:\n",
        "      print(\"No camera available\")\n",
        "      break\n",
        "\n",
        "    # Our operations on the frame come here\n",
        "    frame = cv.GaussianBlur(frame, (kernelSize,kernelSize), 0, 0)\n",
        "    frame = cv.Canny(frame,parameter1,parameter2,intApertureSize)  # Canny edge detection\n",
        "    #frame = cv.Laplacian(frame,cv.CV_64F) # Laplacian edge detection\n",
        "    #frame = cv.Sobel(frame,cv.CV_64F,1,0,ksize=kernelSize) # X-direction Sobel edge detection\n",
        "    #frame = cv.Sobel(frame,cv.CV_64F,0,1,ksize=kernelSize) # Y-direction Sobel edge detection\n",
        "    \n",
        "    # Display the resulting frame\n",
        "    cv.imshow('Canny',frame)\n",
        "    if cv.waitKey(1) & 0xFF == ord('q'):  # press q to quit\n",
        "        break\n",
        "# When everything done, release the capture\n",
        "cap.release()\n",
        "cv.destroyAllWindows()"
      ]
    }
  ],
  "metadata": {
    "colab": {
      "provenance": []
    },
    "kernelspec": {
      "display_name": "Python 3.10.5 64-bit",
      "language": "python",
      "name": "python3"
    },
    "language_info": {
      "codemirror_mode": {
        "name": "ipython",
        "version": 3
      },
      "file_extension": ".py",
      "mimetype": "text/x-python",
      "name": "python",
      "nbconvert_exporter": "python",
      "pygments_lexer": "ipython3",
      "version": "3.10.5"
    },
    "vscode": {
      "interpreter": {
        "hash": "9ffaa23e4c1a606a79935d30be75e6adcafdea2dea43863fb1ebfe4493c5c699"
      }
    }
  },
  "nbformat": 4,
  "nbformat_minor": 0
}
