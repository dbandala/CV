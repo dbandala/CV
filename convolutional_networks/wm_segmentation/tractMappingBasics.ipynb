{
 "cells": [
  {
   "cell_type": "code",
   "execution_count": 1,
   "id": "63bcb578",
   "metadata": {},
   "outputs": [],
   "source": [
    "import matplotlib.pyplot as plt\n",
    "from dipy.core.gradients import gradient_table\n",
    "from dipy.io.gradients import read_bvals_bvecs\n",
    "from dipy.io.image import load_nifti, load_nifti_data"
   ]
  },
  {
   "cell_type": "code",
   "execution_count": 80,
   "id": "d9136d60",
   "metadata": {},
   "outputs": [],
   "source": [
    "TRAIN_DATA = '../train_data'"
   ]
  },
  {
   "cell_type": "code",
   "execution_count": 81,
   "id": "bc6518bb",
   "metadata": {},
   "outputs": [],
   "source": [
    "# read diffusion data\n",
    "diffussionData, affine, img = load_nifti(TRAIN_DATA+'/case_1/Diffusion.nii.gz', return_img=True)"
   ]
  },
  {
   "cell_type": "code",
   "execution_count": 82,
   "id": "7ad7bbd6",
   "metadata": {},
   "outputs": [],
   "source": [
    "# read labels data\n",
    "labels = load_nifti_data(TRAIN_DATA+'/case_1/OR_right.nii.gz')"
   ]
  },
  {
   "cell_type": "code",
   "execution_count": 83,
   "id": "615258a4",
   "metadata": {},
   "outputs": [],
   "source": [
    "# read tensor data\n",
    "bvals, bvecs = read_bvals_bvecs(TRAIN_DATA+'/case_1/Diffusion.bvals', TRAIN_DATA+'/case_1/Diffusion.bvecs')"
   ]
  },
  {
   "cell_type": "code",
   "execution_count": 84,
   "id": "d2ab7b03",
   "metadata": {},
   "outputs": [],
   "source": [
    "# generate gradient table from bvals and bvecs\n",
    "gtab = gradient_table(bvals, bvecs)"
   ]
  },
  {
   "cell_type": "code",
   "execution_count": 85,
   "id": "f8df36c0",
   "metadata": {},
   "outputs": [],
   "source": [
    "white_matter = (labels == 1) | (labels == 2)"
   ]
  },
  {
   "cell_type": "markdown",
   "id": "9ef5cc21",
   "metadata": {},
   "source": [
    "## Orientation Distribution Function (ODF)"
   ]
  },
  {
   "cell_type": "code",
   "execution_count": 2,
   "id": "0ff83edc",
   "metadata": {},
   "outputs": [],
   "source": [
    "from dipy.viz import window, actor, has_fury\n",
    "from dipy.reconst.csdeconv import auto_response_ssst\n",
    "from dipy.reconst.shm import CsaOdfModel\n",
    "from dipy.data import default_sphere\n",
    "from dipy.direction import peaks_from_model"
   ]
  },
  {
   "cell_type": "code",
   "execution_count": 102,
   "id": "7bc1bb78",
   "metadata": {},
   "outputs": [],
   "source": [
    "response, ratio = auto_response_ssst(gtab, diffussionData, roi_radii=10, fa_thr=0.7)"
   ]
  },
  {
   "cell_type": "code",
   "execution_count": 103,
   "id": "89f4c7b3",
   "metadata": {},
   "outputs": [],
   "source": [
    "csa_model = CsaOdfModel(gtab, sh_order=6)"
   ]
  },
  {
   "cell_type": "code",
   "execution_count": 104,
   "id": "451658fe",
   "metadata": {},
   "outputs": [],
   "source": [
    "csa_peaks = peaks_from_model(csa_model, diffussionData, default_sphere,\n",
    "                             relative_peak_threshold=.1,\n",
    "                             min_separation_angle=25,\n",
    "                             mask=white_matter)"
   ]
  },
  {
   "cell_type": "code",
   "execution_count": 16,
   "id": "ffb48cea",
   "metadata": {},
   "outputs": [],
   "source": [
    "# show direction field slice\n",
    "if has_fury:\n",
    "    scene = window.Scene()\n",
    "    scene.add(actor.peak_slicer(csa_peaks.peak_dirs,\n",
    "                                csa_peaks.peak_values,\n",
    "                                colors=None))\n",
    "    window.record(scene, out_path='csa_direction_field.png', size=(500, 500))\n",
    "    if interactive:\n",
    "        window.show(scene, size=(400, 400))"
   ]
  },
  {
   "cell_type": "code",
   "execution_count": 105,
   "id": "3e3b71bd",
   "metadata": {
    "scrolled": true
   },
   "outputs": [
    {
     "data": {
      "image/png": "[encoded data removed]",
      "text/plain": [
       "<Figure size 432x288 with 2 Axes>"
      ]
     },
     "metadata": {
      "needs_background": "light"
     },
     "output_type": "display_data"
    }
   ],
   "source": [
    "sli = csa_peaks.gfa.shape[2] // 2\n",
    "plt.figure('GFA')\n",
    "plt.subplot(1, 2, 1).set_axis_off()\n",
    "plt.imshow(csa_peaks.gfa[:, :, sli].T, cmap='gray', origin='lower')\n",
    "\n",
    "plt.subplot(1, 2, 2).set_axis_off()\n",
    "plt.imshow((csa_peaks.gfa[:, :, sli] > 0).T, cmap='gray', origin='lower')\n",
    "\n",
    "plt.savefig('gfa_tracking_mask.png')"
   ]
  },
  {
   "cell_type": "code",
   "execution_count": 37,
   "id": "a6fb0b6c",
   "metadata": {},
   "outputs": [
    {
     "data": {
      "text/plain": [
       "(128, 144, 128)"
      ]
     },
     "execution_count": 37,
     "metadata": {},
     "output_type": "execute_result"
    }
   ],
   "source": [
    "csa_peaks.gfa.shape"
   ]
  },
  {
   "cell_type": "code",
   "execution_count": 78,
   "id": "02fe6bda",
   "metadata": {},
   "outputs": [
    {
     "data": {
      "text/plain": [
       "<matplotlib.image.AxesImage at 0x7f918ebf93d0>"
      ]
     },
     "execution_count": 78,
     "metadata": {},
     "output_type": "execute_result"
    },
    {
     "data": {
      "image/png": "[encoded data removed]",
      "text/plain": [
       "<Figure size 432x288 with 1 Axes>"
      ]
     },
     "metadata": {
      "needs_background": "light"
     },
     "output_type": "display_data"
    }
   ],
   "source": [
    "plt.imshow(white_matter[:, :, sli].T, cmap='gray', origin='lower')"
   ]
  },
  {
   "cell_type": "code",
   "execution_count": 60,
   "id": "74c90679",
   "metadata": {},
   "outputs": [
    {
     "data": {
      "text/plain": [
       "(81, 106, 76)"
      ]
     },
     "execution_count": 60,
     "metadata": {},
     "output_type": "execute_result"
    }
   ],
   "source": [
    "white_matter.shape"
   ]
  },
  {
   "cell_type": "code",
   "execution_count": null,
   "id": "a656b379",
   "metadata": {},
   "outputs": [],
   "source": []
  },
  {
   "cell_type": "code",
   "execution_count": 110,
   "id": "131ffc3f",
   "metadata": {},
   "outputs": [
    {
     "data": {
      "text/plain": [
       "<matplotlib.image.AxesImage at 0x7f916c8b5ac0>"
      ]
     },
     "execution_count": 110,
     "metadata": {},
     "output_type": "execute_result"
    },
    {
     "data": {
      "image/png": "[encoded data removed]",
      "text/plain": [
       "<Figure size 432x288 with 1 Axes>"
      ]
     },
     "metadata": {
      "needs_background": "light"
     },
     "output_type": "display_data"
    }
   ],
   "source": [
    "plt.imshow(diffussionData[:, :, sli,4].T, cmap='gray', origin='lower')"
   ]
  },
  {
   "cell_type": "code",
   "execution_count": null,
   "id": "38a98f4d",
   "metadata": {},
   "outputs": [],
   "source": []
  },
  {
   "cell_type": "code",
   "execution_count": null,
   "id": "ad447355",
   "metadata": {},
   "outputs": [],
   "source": []
  },
  {
   "cell_type": "code",
   "execution_count": null,
   "id": "f692abbb",
   "metadata": {},
   "outputs": [],
   "source": []
  },
  {
   "cell_type": "code",
   "execution_count": null,
   "id": "c272a844",
   "metadata": {},
   "outputs": [],
   "source": []
  },
  {
   "cell_type": "code",
   "execution_count": null,
   "id": "33b768df",
   "metadata": {},
   "outputs": [],
   "source": []
  },
  {
   "cell_type": "code",
   "execution_count": null,
   "id": "ba6c7d06",
   "metadata": {},
   "outputs": [],
   "source": []
  },
  {
   "cell_type": "code",
   "execution_count": null,
   "id": "11a4587f",
   "metadata": {},
   "outputs": [],
   "source": []
  },
  {
   "cell_type": "code",
   "execution_count": 48,
   "id": "67c55c43",
   "metadata": {},
   "outputs": [],
   "source": [
    "from dipy.data import get_fnames\n",
    "hardi_fname, hardi_bval_fname, hardi_bvec_fname = get_fnames('stanford_hardi')\n",
    "label_fname = get_fnames('stanford_labels')\n",
    "\n",
    "data, affine, hardi_img = load_nifti(hardi_fname, return_img=True)\n",
    "labels = load_nifti_data(label_fname)\n",
    "bvals, bvecs = read_bvals_bvecs(hardi_bval_fname, hardi_bvec_fname)\n",
    "gtab = gradient_table(bvals, bvecs)"
   ]
  },
  {
   "cell_type": "code",
   "execution_count": 49,
   "id": "6db50928",
   "metadata": {},
   "outputs": [],
   "source": [
    "white_matter = (labels == 1) | (labels == 2)"
   ]
  },
  {
   "cell_type": "code",
   "execution_count": 6,
   "id": "e3a1535a",
   "metadata": {},
   "outputs": [],
   "source": [
    "response, ratio = auto_response_ssst(gtab, data, roi_radii=20, fa_thr=0.5)\n",
    "csa_model = CsaOdfModel(gtab, sh_order=6)"
   ]
  },
  {
   "cell_type": "code",
   "execution_count": 7,
   "id": "30a1550b",
   "metadata": {},
   "outputs": [],
   "source": [
    "csa_peaks = peaks_from_model(csa_model, data, default_sphere,\n",
    "                             relative_peak_threshold=.8,\n",
    "                             min_separation_angle=45,\n",
    "                             mask=white_matter)"
   ]
  },
  {
   "cell_type": "code",
   "execution_count": null,
   "id": "6b39660c",
   "metadata": {},
   "outputs": [],
   "source": [
    "if has_fury:\n",
    "    scene = window.Scene()\n",
    "    scene.add(actor.peak_slicer(csa_peaks.peak_dirs,csa_peaks.peak_values,colors=None))\n",
    "    window.record(scene, out_path='csa_direction_field.png', size=(900, 900))\n",
    "    #window.show(scene, size=(800, 800))\n",
    "    #window.ShowManager(scene).exit()"
   ]
  },
  {
   "cell_type": "code",
   "execution_count": null,
   "id": "5ba40df1",
   "metadata": {
    "scrolled": false
   },
   "outputs": [],
   "source": [
    "window.ShowManager(scene).exit()"
   ]
  },
  {
   "cell_type": "code",
   "execution_count": 51,
   "id": "36f7c56d",
   "metadata": {},
   "outputs": [
    {
     "data": {
      "image/png": "[encoded data removed]",
      "text/plain": [
       "<Figure size 432x288 with 2 Axes>"
      ]
     },
     "metadata": {
      "needs_background": "light"
     },
     "output_type": "display_data"
    }
   ],
   "source": [
    "sli = csa_peaks.gfa.shape[2] // 2\n",
    "plt.figure('GFA')\n",
    "plt.subplot(1, 2, 1).set_axis_off()\n",
    "plt.imshow(csa_peaks.gfa[:, :, sli].T, cmap='gray', origin='lower')\n",
    "\n",
    "plt.subplot(1, 2, 2).set_axis_off()\n",
    "plt.imshow((csa_peaks.gfa[:, :, sli] > 0.25).T, cmap='gray', origin='lower')\n",
    "\n",
    "plt.savefig('gfa_tracking_mask.png')"
   ]
  },
  {
   "cell_type": "code",
   "execution_count": 11,
   "id": "f105def9",
   "metadata": {},
   "outputs": [
    {
     "data": {
      "text/plain": [
       "(81, 106, 76)"
      ]
     },
     "execution_count": 11,
     "metadata": {},
     "output_type": "execute_result"
    }
   ],
   "source": [
    "csa_peaks.gfa.shape"
   ]
  },
  {
   "cell_type": "code",
   "execution_count": 12,
   "id": "c3b6f099",
   "metadata": {},
   "outputs": [
    {
     "data": {
      "text/plain": [
       "(81, 106, 76, 160)"
      ]
     },
     "execution_count": 12,
     "metadata": {},
     "output_type": "execute_result"
    }
   ],
   "source": [
    "data.shape"
   ]
  },
  {
   "cell_type": "code",
   "execution_count": null,
   "id": "972d1e41",
   "metadata": {},
   "outputs": [],
   "source": []
  }
 ],
 "metadata": {
  "kernelspec": {
   "display_name": "Python 3",
   "language": "python",
   "name": "python3"
  },
  "language_info": {
   "codemirror_mode": {
    "name": "ipython",
    "version": 3
   },
   "file_extension": ".py",
   "mimetype": "text/x-python",
   "name": "python",
   "nbconvert_exporter": "python",
   "pygments_lexer": "ipython3",
   "version": "3.8.8"
  }
 },
 "nbformat": 4,
 "nbformat_minor": 5
}
